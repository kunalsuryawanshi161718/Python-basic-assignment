{
 "cells": [
  {
   "cell_type": "markdown",
   "id": "7b5b5269",
   "metadata": {},
   "source": [
    "## 1. How do you distinguish between shutil.copy() and shutil.copytree()?"
   ]
  },
  {
   "cell_type": "markdown",
   "id": "f2ace842",
   "metadata": {},
   "source": [
    "shutil.copy : Copies a single file\n",
    "\n",
    "shutil.copytree() : copy an entire folder with files in it"
   ]
  },
  {
   "cell_type": "markdown",
   "id": "ed88ecef",
   "metadata": {},
   "source": [
    "## 2. What function is used to rename files??"
   ]
  },
  {
   "cell_type": "markdown",
   "id": "74e6bc64",
   "metadata": {},
   "source": [
    "import os\n",
    "\n",
    "os.rename(\"kunal.txt\",\"new.txt\")"
   ]
  },
  {
   "cell_type": "markdown",
   "id": "4d79370c",
   "metadata": {},
   "source": [
    "## 3. What is the difference between the delete functions in the send2trash and shutil modules?\n",
    "import shutil\n",
    "\n",
    "shutil.retree():\n",
    "\n",
    "retree() function used to delete files or folders permanantly\n",
    "\n",
    "import send2trash\n",
    "\n",
    "send2trash.send2trash() : send2trash, it send files to the Trash or Recycle Bin instead of permanently \n",
    "deleting them.\n"
   ]
  },
  {
   "cell_type": "code",
   "execution_count": null,
   "id": "b9c3312f",
   "metadata": {},
   "outputs": [],
   "source": [
    "import shutil\n",
    "import send2trash\n",
    "shutil.rmtree(\"path\")\n",
    "send2trash.send2trash(\"path\")"
   ]
  },
  {
   "cell_type": "markdown",
   "id": "b2ac0e31",
   "metadata": {},
   "source": [
    "## 4. ZipFile objects have a close() method just like File objects’ close() method. What ZipFile method is equivalent to File objects’ open() method?"
   ]
  },
  {
   "cell_type": "code",
   "execution_count": null,
   "id": "5116320f",
   "metadata": {},
   "outputs": [],
   "source": [
    "from zipfile import Zipfile\n",
    "with ZipFile(file_name, 'r') as zip: \n",
    "\n",
    "#this code will open specified zipfile for us. we can use zip objext to preform oother operation the ziplife. like zip.read()"
   ]
  },
  {
   "cell_type": "markdown",
   "id": "77c4e8ea",
   "metadata": {},
   "source": [
    "## 5. Create a programme that searches a folder tree for files with a certain file extension (such as .pdf or .jpg). Copy these files from whatever location they are in to a new folder."
   ]
  },
  {
   "cell_type": "code",
   "execution_count": 8,
   "id": "971d8416",
   "metadata": {},
   "outputs": [],
   "source": [
    "import os \n",
    "import shutil"
   ]
  },
  {
   "cell_type": "code",
   "execution_count": 6,
   "id": "95bb62fd",
   "metadata": {},
   "outputs": [
    {
     "name": "stdout",
     "output_type": "stream",
     "text": [
      "Looking in C:\\kunal for files with extensions of .mp4, .pdf, .jpg\n",
      "Coping C:\\kunal\\Hands-on_Machine_Learning.pdf to D:\\kunal\n"
     ]
    }
   ],
   "source": [
    "def docopy(source,extensions,destination):\n",
    "    folder = os.path.abspath(source)\n",
    "    destFolder = os.path.abspath(destination)\n",
    "    print('Looking in', source, 'for files with extensions of', ', '.join(extensions))\n",
    "    for foldername, subfolders, filenames in os.walk(source):\n",
    "        for filename in filenames:\n",
    "            name,extension = os.path.splitext(filename)\n",
    "            if extension in extensions:\n",
    "                fileAbsPath = foldername + os.path.sep + filename\n",
    "                print('Coping', fileAbsPath, 'to', destination)\n",
    "                shutil.copy(fileAbsPath, destination)\n",
    "\n",
    "    \n",
    "    \n",
    "    \n",
    "    \n",
    "    \n",
    "extensions = ['.mp4', '.pdf','.jpg']\n",
    "source = \"C:\\kunal\"\n",
    "destination = \"D:\\kunal\"\n",
    "docopy(source,extensions,destination)\n",
    "    "
   ]
  },
  {
   "cell_type": "code",
   "execution_count": null,
   "id": "bef96d75",
   "metadata": {},
   "outputs": [],
   "source": []
  }
 ],
 "metadata": {
  "kernelspec": {
   "display_name": "Python 3",
   "language": "python",
   "name": "python3"
  },
  "language_info": {
   "codemirror_mode": {
    "name": "ipython",
    "version": 3
   },
   "file_extension": ".py",
   "mimetype": "text/x-python",
   "name": "python",
   "nbconvert_exporter": "python",
   "pygments_lexer": "ipython3",
   "version": "3.8.8"
  }
 },
 "nbformat": 4,
 "nbformat_minor": 5
}
