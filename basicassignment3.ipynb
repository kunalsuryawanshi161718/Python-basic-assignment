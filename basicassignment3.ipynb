{
 "cells": [
  {
   "cell_type": "code",
   "execution_count": 1,
   "id": "bff35269",
   "metadata": {},
   "outputs": [],
   "source": [
    "# Python Basics assignment 3"
   ]
  },
  {
   "cell_type": "markdown",
   "id": "6b4b3669",
   "metadata": {},
   "source": [
    "##  1. Why are functions advantageous to have in your programs?"
   ]
  },
  {
   "cell_type": "markdown",
   "id": "a38b69e9",
   "metadata": {},
   "source": [
    "### The advantages of using functions are:\n",
    "1-Reducing duplication of code\n",
    "\n",
    "2-Decomposing complex problems into simpler pieces\n",
    "\n",
    "3-Improving clarity of the code\n",
    "\n",
    "4-Reuse of code\n",
    "\n",
    "5-Information hiding"
   ]
  },
  {
   "cell_type": "markdown",
   "id": "b0fe2d79",
   "metadata": {},
   "source": [
    "## 2. When does the code in a function execute: when the function is defined or when the function is called?\n",
    "    The code in a function executes when the function is called, not when the function is defined."
   ]
  },
  {
   "cell_type": "markdown",
   "id": "591a5b29",
   "metadata": {},
   "source": [
    "## 3. What statement creates a function?\n",
    "The def functionName() createes a function"
   ]
  },
  {
   "cell_type": "markdown",
   "id": "5dfc60a7",
   "metadata": {},
   "source": [
    "## 4. What is the difference between a function and a function call?\n",
    "A function : is a block of code that does a particular operation and returns a result. It usually accepts inputs as \n",
    "parameters and returns a result. The parameters are not mandatory. \n",
    "\n",
    "A Function call : is the code used to pass control to a function\n"
   ]
  },
  {
   "cell_type": "markdown",
   "id": "26bd00f9",
   "metadata": {},
   "source": [
    "## 5. How many global scopes are there in a Python program? How many local scopes?\n",
    "There is one global scope, and a local scope is created whenever a function is called"
   ]
  },
  {
   "cell_type": "markdown",
   "id": "8704c9a8",
   "metadata": {},
   "source": [
    "## 6. What happens to variables in a local scope when the function call returns?\n",
    "When a function returns, the local scope is destroyed, and all the variables in it are forgotten. we will not be able to access the out side the function\n"
   ]
  },
  {
   "cell_type": "markdown",
   "id": "506b05ed",
   "metadata": {},
   "source": [
    "## 7. What is the concept of a return value? Is it possible to have a return value in an expression?\n",
    "A return value is the value that a function call evaluates to. A return value can be used as part of an expression, Like any value\n"
   ]
  },
  {
   "cell_type": "markdown",
   "id": "0fae1ba3",
   "metadata": {},
   "source": [
    "## 8. If a function does not have a return statement, what is the return value of a call to that function?\n",
    "If there is no return statement for a function, its return value is None"
   ]
  },
  {
   "cell_type": "markdown",
   "id": "bab4b7ea",
   "metadata": {},
   "source": [
    "## 9. How do you make a function variable refer to the global variable?\n",
    "By representing a valible by global keywaord in the body of a function Example : global a"
   ]
  },
  {
   "cell_type": "markdown",
   "id": "19c57c33",
   "metadata": {},
   "source": [
    "## 10. What is the data type of None?\n",
    "The data type of none is NoneType"
   ]
  },
  {
   "cell_type": "markdown",
   "id": "1188352e",
   "metadata": {},
   "source": [
    "## 11. What does the sentence import areallyourpetsnamederic do?\n",
    "areallyourpetsnamederis ia not a python module. Importing this module will throughs ModuleNotFoundError exception"
   ]
  },
  {
   "cell_type": "markdown",
   "id": "31be8ba8",
   "metadata": {},
   "source": [
    "## 12. If you had a bacon() feature in a spam module, what would you call it after importing spam?\n",
    "This function can be called with spam.bacon(). like below\n",
    "   \n",
    "    import spam\n",
    "    \n",
    "    spam.bacon()"
   ]
  },
  {
   "cell_type": "markdown",
   "id": "c06ecc3b",
   "metadata": {},
   "source": [
    "## 13. What can you do to save a programme from crashing if it encounters an error?\n",
    "we can write lines of code in try block. This will not crash the programme. And in except block we can catch the \n",
    "exception"
   ]
  },
  {
   "cell_type": "markdown",
   "id": "f0adeb8f",
   "metadata": {},
   "source": [
    "## 14. What is the purpose of the try clause? What is the purpose of the except clause?\n",
    "Try : The code that could potentially cause an error goes in the try clause.\n",
    "except : The code that executes if an error happens goes in the except clause, like print statments about exceptions,\n",
    "loggin statements."
   ]
  },
  {
   "cell_type": "code",
   "execution_count": null,
   "id": "dbb75385",
   "metadata": {},
   "outputs": [],
   "source": []
  },
  {
   "cell_type": "code",
   "execution_count": null,
   "id": "040cf336",
   "metadata": {},
   "outputs": [],
   "source": []
  }
 ],
 "metadata": {
  "kernelspec": {
   "display_name": "Python 3",
   "language": "python",
   "name": "python3"
  },
  "language_info": {
   "codemirror_mode": {
    "name": "ipython",
    "version": 3
   },
   "file_extension": ".py",
   "mimetype": "text/x-python",
   "name": "python",
   "nbconvert_exporter": "python",
   "pygments_lexer": "ipython3",
   "version": "3.8.8"
  }
 },
 "nbformat": 4,
 "nbformat_minor": 5
}
