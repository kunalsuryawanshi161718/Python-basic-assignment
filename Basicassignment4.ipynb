{
 "cells": [
  {
   "cell_type": "markdown",
   "id": "2d57be2e",
   "metadata": {},
   "source": [
    "# python basic assignment4"
   ]
  },
  {
   "cell_type": "markdown",
   "id": "b418912e",
   "metadata": {},
   "source": [
    "## 1. What exactly is []?"
   ]
  },
  {
   "cell_type": "markdown",
   "id": "b9ef5514",
   "metadata": {},
   "source": [
    "emplty list,\n",
    "\n",
    "e.g. a =[ ]"
   ]
  },
  {
   "cell_type": "markdown",
   "id": "6f0f38f7",
   "metadata": {},
   "source": [
    "## 2. In a list of values stored in a variable called spam, how would you assign the value &#39;hello&#39; as the\n",
    "third value? (Assume [2, 4, 6, 8, 10] are in spam.)"
   ]
  },
  {
   "cell_type": "code",
   "execution_count": 1,
   "id": "9cfa0a41",
   "metadata": {},
   "outputs": [
    {
     "data": {
      "text/plain": [
       "[2, 4, 'hello', 8, 10]"
      ]
     },
     "execution_count": 1,
     "metadata": {},
     "output_type": "execute_result"
    }
   ],
   "source": [
    "spam = [2, 4, 6, 8, 10]\n",
    "spam[2] = 'hello'\n",
    "spam"
   ]
  },
  {
   "cell_type": "code",
   "execution_count": 2,
   "id": "d95d05b0",
   "metadata": {},
   "outputs": [
    {
     "data": {
      "text/plain": [
       "[2, 4, 'hello', 6, 8, 10]"
      ]
     },
     "execution_count": 2,
     "metadata": {},
     "output_type": "execute_result"
    }
   ],
   "source": [
    "# solution by inserting value in 3rd index\n",
    "spam = [2, 4, 6, 8, 10]\n",
    "spam.insert(2,'hello')\n",
    "spam"
   ]
  },
  {
   "cell_type": "markdown",
   "id": "77c7d3f4",
   "metadata": {},
   "source": [
    "## Lets pretend the spam includes the list ['a', 'b','c','d'] for the next three queries.\n",
    "### 3. What is the value of spam[int(int(3 * 2) / 11)]?"
   ]
  },
  {
   "cell_type": "code",
   "execution_count": 5,
   "id": "296f00a3",
   "metadata": {},
   "outputs": [
    {
     "data": {
      "text/plain": [
       "'d'"
      ]
     },
     "execution_count": 5,
     "metadata": {},
     "output_type": "execute_result"
    }
   ],
   "source": [
    "spam = ['a', 'b','c','d']\n",
    "spam[int(int('3' * 2) / 11)]"
   ]
  },
  {
   "cell_type": "markdown",
   "id": "47c0515d",
   "metadata": {},
   "source": [
    "## 4. What is the value of spam[-1]?"
   ]
  },
  {
   "cell_type": "code",
   "execution_count": 6,
   "id": "95637a10",
   "metadata": {},
   "outputs": [
    {
     "data": {
      "text/plain": [
       "'d'"
      ]
     },
     "execution_count": 6,
     "metadata": {},
     "output_type": "execute_result"
    }
   ],
   "source": [
    "spam = ['a', 'b','c','d']\n",
    "spam[-1]"
   ]
  },
  {
   "cell_type": "markdown",
   "id": "b40a6569",
   "metadata": {},
   "source": [
    "## 5. What is the value of spam[:2]?"
   ]
  },
  {
   "cell_type": "code",
   "execution_count": 7,
   "id": "46efb17f",
   "metadata": {},
   "outputs": [
    {
     "data": {
      "text/plain": [
       "['a', 'b']"
      ]
     },
     "execution_count": 7,
     "metadata": {},
     "output_type": "execute_result"
    }
   ],
   "source": [
    "spam[:2] # c"
   ]
  },
  {
   "cell_type": "markdown",
   "id": "9bb3dc98",
   "metadata": {},
   "source": [
    "## Let's pretend bacon has the list [3.14, 'cat' 11, 'cat' True] for the next three questions.\n",
    "### 6. What is the value of bacon.index('cat')?"
   ]
  },
  {
   "cell_type": "code",
   "execution_count": 8,
   "id": "826535da",
   "metadata": {},
   "outputs": [
    {
     "data": {
      "text/plain": [
       "1"
      ]
     },
     "execution_count": 8,
     "metadata": {},
     "output_type": "execute_result"
    }
   ],
   "source": [
    "bacon = [3.14, 'cat', 11, 'cat', True]\n",
    "bacon.index('cat')"
   ]
  },
  {
   "cell_type": "markdown",
   "id": "d2d1970c",
   "metadata": {},
   "source": [
    "## 7. How does bacon.append(99) change the look of the list value in bacon?"
   ]
  },
  {
   "cell_type": "code",
   "execution_count": 9,
   "id": "77efaae3",
   "metadata": {},
   "outputs": [
    {
     "data": {
      "text/plain": [
       "[3.14, 'cat', 11, 'cat', True, 99]"
      ]
     },
     "execution_count": 9,
     "metadata": {},
     "output_type": "execute_result"
    }
   ],
   "source": [
    "bacon = [3.14, 'cat', 11, 'cat', True]\n",
    "bacon.append(99) \n",
    "bacon"
   ]
  },
  {
   "cell_type": "markdown",
   "id": "c3f2288a",
   "metadata": {},
   "source": [
    "## 8. How does bacon.remove('cat') change the look of the list in bacon?"
   ]
  },
  {
   "cell_type": "code",
   "execution_count": 10,
   "id": "21c462dd",
   "metadata": {},
   "outputs": [
    {
     "data": {
      "text/plain": [
       "[3.14, 11, 'cat', True]"
      ]
     },
     "execution_count": 10,
     "metadata": {},
     "output_type": "execute_result"
    }
   ],
   "source": [
    "bacon = [3.14, 'cat', 11, 'cat', True]\n",
    "bacon.remove('cat') # remove first occurrence of item\n",
    "bacon"
   ]
  },
  {
   "cell_type": "markdown",
   "id": "82d0d339",
   "metadata": {},
   "source": [
    "## 9. What are the list concatenation and list replication operators?"
   ]
  },
  {
   "cell_type": "code",
   "execution_count": 11,
   "id": "0c207d9f",
   "metadata": {},
   "outputs": [],
   "source": [
    "#Consider two lists:\n",
    "a = [1, 2, 3] \n",
    "b = [4, 5, 6] "
   ]
  },
  {
   "cell_type": "code",
   "execution_count": 12,
   "id": "17386b94",
   "metadata": {},
   "outputs": [],
   "source": [
    "#If you need to concatenate them into a list, you could use the + operator. This will create a new list c:"
   ]
  },
  {
   "cell_type": "code",
   "execution_count": 14,
   "id": "02fa8437",
   "metadata": {},
   "outputs": [
    {
     "data": {
      "text/plain": [
       "[1, 2, 3, 4, 5, 6]"
      ]
     },
     "execution_count": 14,
     "metadata": {},
     "output_type": "execute_result"
    }
   ],
   "source": [
    "c = a + b \n",
    "c \n",
    "[1, 2, 3, 4, 5, 6] "
   ]
  },
  {
   "cell_type": "code",
   "execution_count": 15,
   "id": "2b2afdeb",
   "metadata": {},
   "outputs": [
    {
     "data": {
      "text/plain": [
       "[1, 2, 3, 4, 5, 6, 1, 2, 3, 4, 5, 6, 1, 2, 3, 4, 5, 6]"
      ]
     },
     "execution_count": 15,
     "metadata": {},
     "output_type": "execute_result"
    }
   ],
   "source": [
    " #If you need to replicate the list a say 3 times, you could use the * operator. This will create a new list d:\n",
    "\n",
    "d = a * 3 \n",
    "d \n",
    "[1, 2, 3, 4, 5, 6, 1, 2, 3, 4, 5, 6, 1, 2, 3, 4, 5, 6]"
   ]
  },
  {
   "cell_type": "markdown",
   "id": "07305cae",
   "metadata": {},
   "source": [
    "## 10. What is difference between the list methods append() and insert()?"
   ]
  },
  {
   "cell_type": "code",
   "execution_count": null,
   "id": "55b23313",
   "metadata": {},
   "outputs": [],
   "source": [
    "#append() ->Appends object to the end of the list\n",
    "#insert() -> Insert object before index"
   ]
  },
  {
   "cell_type": "code",
   "execution_count": 16,
   "id": "e8ff83e9",
   "metadata": {},
   "outputs": [
    {
     "data": {
      "text/plain": [
       "[3.14, 'cat', 11, 'cat', True, 99]"
      ]
     },
     "execution_count": 16,
     "metadata": {},
     "output_type": "execute_result"
    }
   ],
   "source": [
    "bacon = [3.14, 'cat', 11, 'cat', True]\n",
    "bacon.append(99) # append adds the item at the end of the list\n",
    "bacon"
   ]
  },
  {
   "cell_type": "code",
   "execution_count": 17,
   "id": "3abf592f",
   "metadata": {},
   "outputs": [
    {
     "data": {
      "text/plain": [
       "[2, 4, 'hello', 6, 8, 10]"
      ]
     },
     "execution_count": 17,
     "metadata": {},
     "output_type": "execute_result"
    }
   ],
   "source": [
    "# solution by inserting value in 3rd index\n",
    "spam = [2, 4, 6, 8, 10]\n",
    "spam.insert(2,'hello')\n",
    "spam"
   ]
  },
  {
   "cell_type": "markdown",
   "id": "e8a5af89",
   "metadata": {},
   "source": [
    "## 11. What are the two methods for removing items from a list?\n",
    "remove(item) - removeds first occurence of a item\n",
    "\n",
    "pop() - Remove and returns item at index (default last).\n",
    "\n",
    "del(list) - deletes the list\n"
   ]
  },
  {
   "cell_type": "code",
   "execution_count": 19,
   "id": "724f48b5",
   "metadata": {},
   "outputs": [
    {
     "data": {
      "text/plain": [
       "[3.14, 11, 'cat', True]"
      ]
     },
     "execution_count": 19,
     "metadata": {},
     "output_type": "execute_result"
    }
   ],
   "source": [
    "bacon = [3.14, 'cat', 11, 'cat', True]\n",
    "bacon.remove('cat')\n",
    "bacon"
   ]
  },
  {
   "cell_type": "code",
   "execution_count": 20,
   "id": "676d4033",
   "metadata": {},
   "outputs": [
    {
     "data": {
      "text/plain": [
       "[3.14, 'cat', 11, 'cat']"
      ]
     },
     "execution_count": 20,
     "metadata": {},
     "output_type": "execute_result"
    }
   ],
   "source": [
    "bacon = [3.14, 'cat', 11, 'cat', True]\n",
    "bacon.pop()\n",
    "bacon"
   ]
  },
  {
   "cell_type": "markdown",
   "id": "7611634f",
   "metadata": {},
   "source": [
    "## 12. Describe how list values and string values are identical.\n",
    "\n",
    "1. Both lists and strings can be passed to len()\n",
    "\n",
    "2. Have indexes and slices\n",
    "\n",
    "3. Can be used in for loops\n",
    "\n",
    "4. Can be concatenated or replicated\n",
    "\n",
    "5. Can be used with the in and not in operators"
   ]
  },
  {
   "cell_type": "markdown",
   "id": "a298beb9",
   "metadata": {},
   "source": [
    "## 13. What's the difference between tuples and lists?\n",
    "\n",
    "Lists :\n",
    "are mutable - they can have values added, removed, or changed. \n",
    "lists use the square brackets, [ and ]\n",
    "\n",
    "Tuples :\n",
    "are immutable; they cannot be changed at all. \n",
    "Tuples are written using parentheses, ( and ) while "
   ]
  },
  {
   "cell_type": "markdown",
   "id": "f8955023",
   "metadata": {},
   "source": [
    "## 14. How do you type a tuple value that only contains the integer 42?\n"
   ]
  },
  {
   "cell_type": "code",
   "execution_count": 23,
   "id": "64d06962",
   "metadata": {},
   "outputs": [
    {
     "data": {
      "text/plain": [
       "42"
      ]
     },
     "execution_count": 23,
     "metadata": {},
     "output_type": "execute_result"
    }
   ],
   "source": [
    "tup = (42)\n",
    "tup"
   ]
  },
  {
   "cell_type": "markdown",
   "id": "d3a6c2f9",
   "metadata": {},
   "source": [
    "## 15. How do you get a list value's tuple form? How do you get a tuple value's list form?\n",
    "By using tuple() and list() functions"
   ]
  },
  {
   "cell_type": "code",
   "execution_count": 26,
   "id": "2b94b709",
   "metadata": {},
   "outputs": [
    {
     "data": {
      "text/plain": [
       "(1, 2)"
      ]
     },
     "execution_count": 26,
     "metadata": {},
     "output_type": "execute_result"
    }
   ],
   "source": [
    "l1 = [1,2]\n",
    "l = tuple(l1)\n",
    "l"
   ]
  },
  {
   "cell_type": "code",
   "execution_count": 25,
   "id": "713e4836",
   "metadata": {},
   "outputs": [
    {
     "data": {
      "text/plain": [
       "[3, 4]"
      ]
     },
     "execution_count": 25,
     "metadata": {},
     "output_type": "execute_result"
    }
   ],
   "source": [
    "t1 = (3,4)\n",
    "t = list(t1)\n",
    "t"
   ]
  },
  {
   "cell_type": "markdown",
   "id": "c8a71504",
   "metadata": {},
   "source": [
    "## 16. Variables that \"contain\" list values are not necessarily lists themselves. Instead, what do they contain?\n"
   ]
  },
  {
   "cell_type": "markdown",
   "id": "b358c3a7",
   "metadata": {},
   "source": [
    "They contain references to list values"
   ]
  },
  {
   "cell_type": "markdown",
   "id": "6a088e35",
   "metadata": {},
   "source": [
    "## 17. How do you distinguish between copy.copy() and copy.deepcopy()?\n",
    "The copy.copy() function will do a shallow copy of a list, \n",
    "\n",
    "The copy.deepcopy() function will do a deep copy of a list. only copy.deepcopy() will duplicate any lists inside the \n",
    "list"
   ]
  },
  {
   "cell_type": "code",
   "execution_count": null,
   "id": "88d323f6",
   "metadata": {},
   "outputs": [],
   "source": []
  }
 ],
 "metadata": {
  "kernelspec": {
   "display_name": "Python 3",
   "language": "python",
   "name": "python3"
  },
  "language_info": {
   "codemirror_mode": {
    "name": "ipython",
    "version": 3
   },
   "file_extension": ".py",
   "mimetype": "text/x-python",
   "name": "python",
   "nbconvert_exporter": "python",
   "pygments_lexer": "ipython3",
   "version": "3.8.8"
  }
 },
 "nbformat": 4,
 "nbformat_minor": 5
}
