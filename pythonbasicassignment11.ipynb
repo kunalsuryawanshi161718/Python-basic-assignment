{
 "cells": [
  {
   "cell_type": "markdown",
   "id": "fee8a3b8",
   "metadata": {},
   "source": [
    "## 1. Create an assert statement that throws an AssertionError if the variable spam is a negative integer."
   ]
  },
  {
   "cell_type": "code",
   "execution_count": 11,
   "id": "db6fea93",
   "metadata": {},
   "outputs": [
    {
     "ename": "AssertionError",
     "evalue": "Your spam is -ve integer!",
     "output_type": "error",
     "traceback": [
      "\u001b[1;31m---------------------------------------------------------------------------\u001b[0m",
      "\u001b[1;31mAssertionError\u001b[0m                            Traceback (most recent call last)",
      "\u001b[1;32m<ipython-input-11-3d0c331f4ab8>\u001b[0m in \u001b[0;36m<module>\u001b[1;34m\u001b[0m\n\u001b[0;32m      1\u001b[0m \u001b[0mspam\u001b[0m \u001b[1;33m=\u001b[0m \u001b[1;33m-\u001b[0m\u001b[1;36m100\u001b[0m\u001b[1;33m\u001b[0m\u001b[1;33m\u001b[0m\u001b[0m\n\u001b[1;32m----> 2\u001b[1;33m \u001b[1;32massert\u001b[0m \u001b[0mspam\u001b[0m \u001b[1;33m>\u001b[0m \u001b[1;36m10\u001b[0m\u001b[1;33m,\u001b[0m \u001b[1;34m'Your spam is -ve integer!'\u001b[0m\u001b[1;33m\u001b[0m\u001b[1;33m\u001b[0m\u001b[0m\n\u001b[0m",
      "\u001b[1;31mAssertionError\u001b[0m: Your spam is -ve integer!"
     ]
    }
   ],
   "source": [
    "spam = -100\n",
    "assert spam > 10, 'Your spam is -ve integer!'"
   ]
  },
  {
   "cell_type": "markdown",
   "id": "2c817865",
   "metadata": {},
   "source": [
    "## 2. Write an assert statement that triggers an AssertionError if the variables eggs and bacon contain strings that are the same as each other, even if their cases are different (that is, &#39;hello&#39; and &#39;hello&#39; are considered the same, and &#39;goodbye&#39; and &#39;GOODbye&#39; are also considered the same)."
   ]
  },
  {
   "cell_type": "code",
   "execution_count": 13,
   "id": "5bd78cb4",
   "metadata": {},
   "outputs": [
    {
     "ename": "AssertionError",
     "evalue": "eggs/bacon should not be the same!",
     "output_type": "error",
     "traceback": [
      "\u001b[1;31m---------------------------------------------------------------------------\u001b[0m",
      "\u001b[1;31mAssertionError\u001b[0m                            Traceback (most recent call last)",
      "\u001b[1;32m<ipython-input-13-d3977e802ead>\u001b[0m in \u001b[0;36m<module>\u001b[1;34m\u001b[0m\n\u001b[0;32m      3\u001b[0m \u001b[1;33m\u001b[0m\u001b[0m\n\u001b[0;32m      4\u001b[0m \u001b[1;31m# Raise an AssertError if they are not different.\u001b[0m\u001b[1;33m\u001b[0m\u001b[1;33m\u001b[0m\u001b[1;33m\u001b[0m\u001b[0m\n\u001b[1;32m----> 5\u001b[1;33m \u001b[1;32massert\u001b[0m \u001b[0meggs\u001b[0m\u001b[1;33m.\u001b[0m\u001b[0mlower\u001b[0m\u001b[1;33m(\u001b[0m\u001b[1;33m)\u001b[0m \u001b[1;33m!=\u001b[0m \u001b[0mbacon\u001b[0m\u001b[1;33m.\u001b[0m\u001b[0mlower\u001b[0m\u001b[1;33m(\u001b[0m\u001b[1;33m)\u001b[0m\u001b[1;33m,\u001b[0m \u001b[1;34m'eggs/bacon should not be the same!'\u001b[0m\u001b[1;33m\u001b[0m\u001b[1;33m\u001b[0m\u001b[0m\n\u001b[0m",
      "\u001b[1;31mAssertionError\u001b[0m: eggs/bacon should not be the same!"
     ]
    }
   ],
   "source": [
    "eggs = 'hello'\n",
    "bacon = 'hello'\n",
    "\n",
    "# Raise an AssertError if they are not different.\n",
    "assert eggs.lower() != bacon.lower(), 'eggs/bacon should not be the same!'"
   ]
  },
  {
   "cell_type": "code",
   "execution_count": 14,
   "id": "264e4134",
   "metadata": {},
   "outputs": [
    {
     "ename": "AssertionError",
     "evalue": "eggs/bacon should not be the same!",
     "output_type": "error",
     "traceback": [
      "\u001b[1;31m---------------------------------------------------------------------------\u001b[0m",
      "\u001b[1;31mAssertionError\u001b[0m                            Traceback (most recent call last)",
      "\u001b[1;32m<ipython-input-14-db167d218fec>\u001b[0m in \u001b[0;36m<module>\u001b[1;34m\u001b[0m\n\u001b[0;32m      2\u001b[0m \u001b[0mbacon\u001b[0m \u001b[1;33m=\u001b[0m \u001b[1;34m'GOOD by'\u001b[0m\u001b[1;33m\u001b[0m\u001b[1;33m\u001b[0m\u001b[0m\n\u001b[0;32m      3\u001b[0m \u001b[1;31m# Raise an AssertError if they are not different.\u001b[0m\u001b[1;33m\u001b[0m\u001b[1;33m\u001b[0m\u001b[1;33m\u001b[0m\u001b[0m\n\u001b[1;32m----> 4\u001b[1;33m \u001b[1;32massert\u001b[0m \u001b[0meggs\u001b[0m\u001b[1;33m.\u001b[0m\u001b[0mlower\u001b[0m\u001b[1;33m(\u001b[0m\u001b[1;33m)\u001b[0m \u001b[1;33m!=\u001b[0m \u001b[0mbacon\u001b[0m\u001b[1;33m.\u001b[0m\u001b[0mlower\u001b[0m\u001b[1;33m(\u001b[0m\u001b[1;33m)\u001b[0m\u001b[1;33m,\u001b[0m \u001b[1;34m'eggs/bacon should not be the same!'\u001b[0m\u001b[1;33m\u001b[0m\u001b[1;33m\u001b[0m\u001b[0m\n\u001b[0m",
      "\u001b[1;31mAssertionError\u001b[0m: eggs/bacon should not be the same!"
     ]
    }
   ],
   "source": [
    "eggs = 'good by'\n",
    "bacon = 'GOOD by'\n",
    "# Raise an AssertError if they are not different.\n",
    "assert eggs.lower() != bacon.lower(), 'eggs/bacon should not be the same!'"
   ]
  },
  {
   "cell_type": "markdown",
   "id": "fbeedd58",
   "metadata": {},
   "source": [
    "## 3. Create an assert statement that throws an AssertionError every time."
   ]
  },
  {
   "cell_type": "code",
   "execution_count": 19,
   "id": "d35ced88",
   "metadata": {},
   "outputs": [],
   "source": [
    "\n",
    "assert True, 'Always triggers an AssertionError.'"
   ]
  },
  {
   "cell_type": "markdown",
   "id": "9dc4f821",
   "metadata": {},
   "source": [
    "## 4 - What are the two lines that must be present in your software in order to call logging.debug()?"
   ]
  },
  {
   "cell_type": "code",
   "execution_count": 20,
   "id": "567fdde0",
   "metadata": {},
   "outputs": [],
   "source": [
    "import logging\n",
    "logging.basicConfig(\n",
    "    filename='programLog.txt',\n",
    "    level=logging.DEBUG,\n",
    "    format='%(asctime)s - %(levelname)s - %(message)s'\n",
    ")"
   ]
  },
  {
   "cell_type": "markdown",
   "id": "dc124a74",
   "metadata": {},
   "source": [
    "## 5. What are the two lines that your program must have in order to have logging.debug() send a logging message to a file named programLog.txt?"
   ]
  },
  {
   "cell_type": "code",
   "execution_count": 21,
   "id": "a67f8d5c",
   "metadata": {},
   "outputs": [],
   "source": [
    "# Test a logging.debug('message')\n",
    "#  2019-08-03 12:24:50,549 - DEBUG - This is a test message.\n",
    "# logging.debug('This is a test message.')"
   ]
  },
  {
   "cell_type": "markdown",
   "id": "46a7c9c4",
   "metadata": {},
   "source": [
    "## 06. What are the 5 logging levels.\n",
    " logging.debug() - variable's state and small details\n",
    " \n",
    " logging.info() - general events, confirm a program is working\n",
    " \n",
    " logging.warning() - potiental problem to work on in the future\n",
    " \n",
    " logging.error() - record an error that caused program to fail to do something\n",
    " \n",
    " logging.critical() - fatal error that has caused"
   ]
  },
  {
   "cell_type": "markdown",
   "id": "a768084f",
   "metadata": {},
   "source": [
    "## 7. What line of code would you add to your software to disable all logging messages?\n"
   ]
  },
  {
   "cell_type": "code",
   "execution_count": 22,
   "id": "0c18cbda",
   "metadata": {},
   "outputs": [],
   "source": [
    "logging.disable(logging.DEBUG)"
   ]
  },
  {
   "cell_type": "markdown",
   "id": "ffc299c2",
   "metadata": {},
   "source": [
    "## 8.Why is using logging messages better than using print() to display the same message?"
   ]
  },
  {
   "cell_type": "markdown",
   "id": "1b2eab75",
   "metadata": {},
   "source": [
    "Ans: Because with print, when your program is ready for production, you still\n",
    "have to \"remove\" or comment it out. Verses logging message, you can toggle\n",
    "the setting on/off or write to a file (send to a server). It is more flexible\n",
    "especially with logging level 1-5."
   ]
  },
  {
   "cell_type": "markdown",
   "id": "7e7c6a3e",
   "metadata": {},
   "source": [
    "## 9. What are the differences between the Step Over, Step In, and Step Out buttons in the debugger?"
   ]
  },
  {
   "cell_type": "markdown",
   "id": "7cff5779",
   "metadata": {},
   "source": [
    "Ans: - Debug Control Window?\n",
    "\n",
    "    Step - one line execution at a time\n",
    "\n",
    "    Over - excecute the next line of code, but if it is a program, it will\n",
    "        complete the entire function call.\n",
    "\n",
    "    out  - execute the lines of code unti it returns from the current function.\n",
    "        (out is useful when you stepped into a function call).\n"
   ]
  },
  {
   "cell_type": "markdown",
   "id": "4367a384",
   "metadata": {},
   "source": [
    "## 10.After you click Continue, when will the debugger stop ?"
   ]
  },
  {
   "cell_type": "markdown",
   "id": "7e815dff",
   "metadata": {},
   "source": [
    "Ans:- Go runs until the program terminate or reaches a breakpoint set."
   ]
  },
  {
   "cell_type": "markdown",
   "id": "51db2f37",
   "metadata": {},
   "source": [
    "## 11/12. What is a breakpoint? How to create it?\n",
    "\n",
    "Ans: When you have Debugger enabled and you can right click on any lines\n",
    " to create a breakpoint. During Go - it will stop there and await your next\n",
    " command."
   ]
  },
  {
   "cell_type": "code",
   "execution_count": null,
   "id": "ce7f3a28",
   "metadata": {},
   "outputs": [],
   "source": []
  }
 ],
 "metadata": {
  "kernelspec": {
   "display_name": "Python 3",
   "language": "python",
   "name": "python3"
  },
  "language_info": {
   "codemirror_mode": {
    "name": "ipython",
    "version": 3
   },
   "file_extension": ".py",
   "mimetype": "text/x-python",
   "name": "python",
   "nbconvert_exporter": "python",
   "pygments_lexer": "ipython3",
   "version": "3.8.8"
  }
 },
 "nbformat": 4,
 "nbformat_minor": 5
}
