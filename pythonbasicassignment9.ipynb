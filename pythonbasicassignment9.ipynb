{
 "cells": [
  {
   "cell_type": "markdown",
   "id": "465178f0",
   "metadata": {},
   "source": [
    "## 1-To what does a relative path refer?"
   ]
  },
  {
   "cell_type": "markdown",
   "id": "7ea94181",
   "metadata": {},
   "source": [
    "Ans:- Relative path means the path of a certain file relative to the current working directory.\n",
    "\n",
    "\n",
    "For example, if the current working directory is C:\\PythonProjects\\Tutorials, the path.py file’s relative path would be \\Paths\\paths.py which is shorter and easier to use than the absolute path C:\\PythonProjects\\Tutorials\\Paths\\paths.py."
   ]
  },
  {
   "cell_type": "markdown",
   "id": "14f71696",
   "metadata": {},
   "source": [
    "## 2. What does an absolute path start with your operating system?"
   ]
  },
  {
   "cell_type": "markdown",
   "id": "b86a58f3",
   "metadata": {},
   "source": [
    "Ans:-  The absolutes path starts from the root directory. For example, C:\\PythonProjects\\Tutorials\\Paths\\paths.py is the absolute path of paths.py file."
   ]
  },
  {
   "cell_type": "markdown",
   "id": "8273fa3c",
   "metadata": {},
   "source": [
    "## 3. What do the functions os.getcwd() and os.chdir() do?"
   ]
  },
  {
   "cell_type": "markdown",
   "id": "9e38ef6f",
   "metadata": {},
   "source": [
    "The current working directory or cwd in short is the directory from which the program is being executed. You can get the current working directory of the particular file by os.getcwd() method."
   ]
  },
  {
   "cell_type": "code",
   "execution_count": 1,
   "id": "324bda89",
   "metadata": {},
   "outputs": [
    {
     "name": "stdout",
     "output_type": "stream",
     "text": [
      "C:\\Users\\kunal\n"
     ]
    }
   ],
   "source": [
    "import os\n",
    "print(os.getcwd())"
   ]
  },
  {
   "cell_type": "markdown",
   "id": "cbe16850",
   "metadata": {},
   "source": [
    "The current working directory can also be changed at runtime using the os.chdir() method."
   ]
  },
  {
   "cell_type": "code",
   "execution_count": 2,
   "id": "e788cba1",
   "metadata": {},
   "outputs": [],
   "source": [
    "#import os\n",
    "#print(\"Old cwd = \" + os.getcwd())\n",
    "#os.chdir(\"C:\\\\PythonProjects\\\\Tutorials\\\\Strings\")\n",
    "#print(\"New cwd = \" + os.getcwd())"
   ]
  },
  {
   "cell_type": "markdown",
   "id": "c8bbe81b",
   "metadata": {},
   "source": [
    "## 4. What are the . and .. folders?"
   ]
  },
  {
   "cell_type": "markdown",
   "id": "e4c36e31",
   "metadata": {},
   "source": [
    "A single dot means that the module or package referenced is in the same directory as the current location.\n",
    "\n",
    "\n",
    "Two dots mean that it is in the parent directory of the current location, in other words the directory above."
   ]
  },
  {
   "cell_type": "markdown",
   "id": "336392e7",
   "metadata": {},
   "source": [
    "## 5. In C:\\bacon\\eggs\\spam.txt, which part is the dir name, and which part is the base name?"
   ]
  },
  {
   "cell_type": "markdown",
   "id": "4b15b5fe",
   "metadata": {},
   "source": [
    "- dir name = C:\\bacon\\eggs\n",
    "- base (or file) name = spam.txt"
   ]
  },
  {
   "cell_type": "markdown",
   "id": "98d87f22",
   "metadata": {},
   "source": [
    "## 6.\tWhat are the three “mode’ arguments that can be passed to the open() function?\n",
    "Ans- read/readlines, write, and append"
   ]
  },
  {
   "cell_type": "markdown",
   "id": "246893b0",
   "metadata": {},
   "source": [
    "## 7.\tWhat happens if an existing file is opened in write mode?\n",
    "Ans- It overwrites the existing file and starts from scratch"
   ]
  },
  {
   "cell_type": "markdown",
   "id": "7bbaa30a",
   "metadata": {},
   "source": [
    "## 8- What is the difference between the read() and readlines() methods?\n",
    "- The read() method passes the entire file as a string\n",
    "- The readlines() method provides a list of string values - one string for each line of text."
   ]
  },
  {
   "cell_type": "markdown",
   "id": "f7fc8912",
   "metadata": {},
   "source": [
    "## 9.\tWhat data structure does a shelf value resemble?\n",
    "- Resembles a dictionary"
   ]
  },
  {
   "cell_type": "code",
   "execution_count": null,
   "id": "aca3ee39",
   "metadata": {},
   "outputs": [],
   "source": []
  }
 ],
 "metadata": {
  "kernelspec": {
   "display_name": "Python 3",
   "language": "python",
   "name": "python3"
  },
  "language_info": {
   "codemirror_mode": {
    "name": "ipython",
    "version": 3
   },
   "file_extension": ".py",
   "mimetype": "text/x-python",
   "name": "python",
   "nbconvert_exporter": "python",
   "pygments_lexer": "ipython3",
   "version": "3.8.8"
  }
 },
 "nbformat": 4,
 "nbformat_minor": 5
}
