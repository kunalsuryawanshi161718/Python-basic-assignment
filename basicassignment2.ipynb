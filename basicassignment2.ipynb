{
 "cells": [
  {
   "cell_type": "markdown",
   "id": "f263d700",
   "metadata": {},
   "source": [
    "# PythonAssignment_2"
   ]
  },
  {
   "cell_type": "markdown",
   "id": "304a854a",
   "metadata": {},
   "source": [
    "## 1.What are the two values of the Boolean data type? How do you write them?\n",
    "Asnwer: The two boolean types in python are True and False\n",
    "- boolA =True\n",
    "- boolB = False"
   ]
  },
  {
   "cell_type": "markdown",
   "id": "7b5cb60c",
   "metadata": {},
   "source": [
    "## 2. What are the three different types of Boolean operators?\n",
    "Answer :\n",
    "#### logical AND\n",
    "#### logical OR  \n",
    "#### logical NOT"
   ]
  },
  {
   "cell_type": "markdown",
   "id": "70e80ed6",
   "metadata": {},
   "source": [
    "\n",
    "## 3. Make a list of each Boolean operator's truth tables (i.e. every possible combination of Boolean values for the operator and what it evaluate ).\n"
   ]
  },
  {
   "cell_type": "code",
   "execution_count": 1,
   "id": "531add48",
   "metadata": {},
   "outputs": [
    {
     "name": "stdout",
     "output_type": "stream",
     "text": [
      "OR operator table is: \n",
      "[0, 0, 0]\n",
      "[0, 1, 0]\n",
      "[1, 0, 0]\n",
      "[1, 1, 1]\n",
      "AND operator table is: \n",
      "[0, 0, 0]\n",
      "[0, 1, 1]\n",
      "[1, 0, 1]\n",
      "[1, 1, 1]\n",
      "NOT operator table is: \n",
      "[0, 1]\n",
      "[1, 0]\n"
     ]
    }
   ],
   "source": [
    "list = [[0,0,0],[0,1,0],[1,0,0],[1,1,1]]\n",
    "list1 = [[0,0,0],[0,1,1],[1,0,1],[1,1,1]]\n",
    "list2 = [[0, 1],[1,0]]\n",
    "\n",
    "print(\"OR operator table is: \")\n",
    "for i in list:\n",
    "    print(i)\n",
    "\n",
    "print(\"AND operator table is: \")\n",
    "for i in list1:\n",
    "    print(i)\n",
    "    \n",
    "print(\"NOT operator table is: \")\n",
    "for i in list2:\n",
    "    print(i)"
   ]
  },
  {
   "cell_type": "markdown",
   "id": "08c2d456",
   "metadata": {},
   "source": [
    "## 4. What are the values of the following expressions?"
   ]
  },
  {
   "cell_type": "code",
   "execution_count": 4,
   "id": "2f3ee088",
   "metadata": {},
   "outputs": [
    {
     "data": {
      "text/plain": [
       "False"
      ]
     },
     "execution_count": 4,
     "metadata": {},
     "output_type": "execute_result"
    }
   ],
   "source": [
    "(5 > 4) and (3 == 5) "
   ]
  },
  {
   "cell_type": "code",
   "execution_count": 5,
   "id": "cce29d1e",
   "metadata": {},
   "outputs": [
    {
     "data": {
      "text/plain": [
       "False"
      ]
     },
     "execution_count": 5,
     "metadata": {},
     "output_type": "execute_result"
    }
   ],
   "source": [
    "not (5 > 4)"
   ]
  },
  {
   "cell_type": "code",
   "execution_count": 6,
   "id": "4c47c45c",
   "metadata": {},
   "outputs": [
    {
     "data": {
      "text/plain": [
       "True"
      ]
     },
     "execution_count": 6,
     "metadata": {},
     "output_type": "execute_result"
    }
   ],
   "source": [
    "(5 > 4) or (3 == 5)"
   ]
  },
  {
   "cell_type": "code",
   "execution_count": 7,
   "id": "9c8b12e9",
   "metadata": {},
   "outputs": [
    {
     "data": {
      "text/plain": [
       "False"
      ]
     },
     "execution_count": 7,
     "metadata": {},
     "output_type": "execute_result"
    }
   ],
   "source": [
    "not ((5 > 4) or (3 == 5))"
   ]
  },
  {
   "cell_type": "code",
   "execution_count": 8,
   "id": "74d9b3eb",
   "metadata": {},
   "outputs": [
    {
     "data": {
      "text/plain": [
       "False"
      ]
     },
     "execution_count": 8,
     "metadata": {},
     "output_type": "execute_result"
    }
   ],
   "source": [
    "(True and True) and (True == False)"
   ]
  },
  {
   "cell_type": "code",
   "execution_count": 9,
   "id": "d2ce29eb",
   "metadata": {},
   "outputs": [
    {
     "data": {
      "text/plain": [
       "True"
      ]
     },
     "execution_count": 9,
     "metadata": {},
     "output_type": "execute_result"
    }
   ],
   "source": [
    "(not False) or (not True)"
   ]
  },
  {
   "cell_type": "markdown",
   "id": "91fdbe6c",
   "metadata": {},
   "source": [
    "## 5. What are the six comparison operators?\n",
    "Answer: Following are 6 comparision operator in Python"
   ]
  },
  {
   "cell_type": "markdown",
   "id": "6562c34b",
   "metadata": {},
   "source": [
    "== -> Equal \n",
    "!= -> Not equal\n",
    "> -> Greater than\n",
    "< -> Less than\n",
    ">= -> Greater than or equal to\n",
    "<= -> Less than or equal to"
   ]
  },
  {
   "cell_type": "markdown",
   "id": "bba87a45",
   "metadata": {},
   "source": [
    "## 6. How do you tell the difference between the equal to and assignment operators?Describe a condition and when you would use one."
   ]
  },
  {
   "cell_type": "markdown",
   "id": "184e0ba7",
   "metadata": {},
   "source": [
    "Assignment operator \"=\"\n",
    "It is used for assigning the value to a variable.\n",
    "example a = 5,\n",
    "str = \"kunal\"\n",
    "Constant term cannot be placed on left hand side.\n",
    "Example: 1=x; is invalid.\n",
    "\n",
    "Equal to Operator \"==\"\n",
    "It is a relational or comparison operator\n",
    "It is used for comparing two values. It returns 1 if both the values are equal otherwise returns 0.\n",
    "Constant term can be placed in the left hand side.\n",
    "Example: 1==1 is valid and returns 1."
   ]
  },
  {
   "cell_type": "code",
   "execution_count": 13,
   "id": "4618dac3",
   "metadata": {},
   "outputs": [
    {
     "name": "stdout",
     "output_type": "stream",
     "text": [
      "True\n"
     ]
    }
   ],
   "source": [
    "#example :\n",
    "\n",
    "x=10\n",
    "y=10\n",
    "\n",
    "if x==y:\n",
    "    print(\"True\")\n",
    "else:\n",
    "    print(\"False\")"
   ]
  },
  {
   "cell_type": "markdown",
   "id": "31a1685b",
   "metadata": {},
   "source": [
    "## 7. Identify the three blocks in this code:"
   ]
  },
  {
   "cell_type": "markdown",
   "id": "599e4022",
   "metadata": {},
   "source": [
    "spam = 0  \n",
    "\n",
    "if spam == 10:\n",
    "    print(\"eggs\")  \n",
    "\n",
    "if spam > 5:\n",
    "    print(\"bacon\")\n",
    "else:\n",
    "    print(\"ham\")\n",
    "    print(\"spam\")\n",
    "    print(\"spam\")"
   ]
  },
  {
   "cell_type": "code",
   "execution_count": 16,
   "id": "42122467",
   "metadata": {},
   "outputs": [
    {
     "name": "stdout",
     "output_type": "stream",
     "text": [
      "ham\n",
      "spam\n",
      "spam\n"
     ]
    }
   ],
   "source": [
    "spam = 0  # ist block\n",
    "    \n",
    "if spam == 10: # second block\n",
    "    print(\"eggs\")  \n",
    "\n",
    "if spam > 5: # 3rd Block\n",
    "    print(\"bacon\")\n",
    "else:\n",
    "    print(\"ham\")\n",
    "    print(\"spam\")\n",
    "    print(\"spam\")"
   ]
  },
  {
   "cell_type": "markdown",
   "id": "23769c83",
   "metadata": {},
   "source": [
    "## 8. Write code that prints Hello if 1 is stored in spam, prints Howdy if 2 is stored in spam, and prints Greetings! if anything else is stored in spam."
   ]
  },
  {
   "cell_type": "code",
   "execution_count": 17,
   "id": "ca81b531",
   "metadata": {},
   "outputs": [
    {
     "name": "stdout",
     "output_type": "stream",
     "text": [
      "Enter spam value :10\n",
      "Greetings!!!\n"
     ]
    }
   ],
   "source": [
    "spam = int(input(\"Enter spam value :\"))\n",
    "if spam == 1 :\n",
    "    print(\"Hello\")\n",
    "elif spam == 2:\n",
    "    print(\"Howdy\")\n",
    "else:\n",
    "    print(\"Greetings!!!\")"
   ]
  },
  {
   "cell_type": "markdown",
   "id": "bba347de",
   "metadata": {},
   "source": [
    "## 9.If your programme is stuck in an endless loop, what keys you’ll press?\n",
    "Answer : Press CTRL + c to exit from a infinite loop"
   ]
  },
  {
   "cell_type": "markdown",
   "id": "9b746a25",
   "metadata": {},
   "source": [
    "## 10. How can you tell the difference between break and continue?\n",
    "Break Statement : \n",
    "Break statements exist in Python to exit or “break” a for or while conditional loop. When the loop ends, the code picks up\n",
    "from and executes the next line immediately following the loop that was broken\n",
    "\n",
    "Continue Statement:\n",
    "The continue statement is used to skip code within a loop for certain iterations of the loop. After the code is skipped,\n",
    "the loop continues where it left off"
   ]
  },
  {
   "cell_type": "markdown",
   "id": "ec62b1b6",
   "metadata": {},
   "source": [
    "## 11. In a for loop, what is the difference between range(10), range(0, 10), and range(0, 10, 1)?\n",
    "Answer : There is no difference in the range(10), range(0,10) and range(0,10,1). range by default takes 0 as starting point and 1 as by default increment."
   ]
  },
  {
   "cell_type": "code",
   "execution_count": 18,
   "id": "e3277c7b",
   "metadata": {},
   "outputs": [
    {
     "name": "stdout",
     "output_type": "stream",
     "text": [
      "0\n",
      "1\n",
      "2\n",
      "3\n",
      "4\n",
      "5\n",
      "6\n",
      "7\n",
      "8\n",
      "9\n"
     ]
    }
   ],
   "source": [
    "for i in range(10):\n",
    "    print(i)"
   ]
  },
  {
   "cell_type": "code",
   "execution_count": 19,
   "id": "a2aa5f72",
   "metadata": {},
   "outputs": [
    {
     "name": "stdout",
     "output_type": "stream",
     "text": [
      "0\n",
      "1\n",
      "2\n",
      "3\n",
      "4\n",
      "5\n",
      "6\n",
      "7\n",
      "8\n",
      "9\n"
     ]
    }
   ],
   "source": [
    "for i in range(0,10):\n",
    "    print(i)"
   ]
  },
  {
   "cell_type": "code",
   "execution_count": 20,
   "id": "3c0ff422",
   "metadata": {},
   "outputs": [
    {
     "name": "stdout",
     "output_type": "stream",
     "text": [
      "0\n",
      "1\n",
      "2\n",
      "3\n",
      "4\n",
      "5\n",
      "6\n",
      "7\n",
      "8\n",
      "9\n"
     ]
    }
   ],
   "source": [
    "for i in range(0,10,1):\n",
    "    print(i)"
   ]
  },
  {
   "cell_type": "markdown",
   "id": "4a525a1e",
   "metadata": {},
   "source": [
    "##  12. Write a short program that prints the numbers 1 to 10 using a for loop. Then write an equivalent program that prints the numbers 1 to 10 using a while loop."
   ]
  },
  {
   "cell_type": "code",
   "execution_count": 21,
   "id": "72010b88",
   "metadata": {},
   "outputs": [
    {
     "name": "stdout",
     "output_type": "stream",
     "text": [
      "1\n",
      "2\n",
      "3\n",
      "4\n",
      "5\n",
      "6\n",
      "7\n",
      "8\n",
      "9\n",
      "10\n"
     ]
    }
   ],
   "source": [
    "# Using for loop\n",
    "for i in range(1,11):\n",
    "    print(i)"
   ]
  },
  {
   "cell_type": "code",
   "execution_count": 22,
   "id": "b371d286",
   "metadata": {},
   "outputs": [
    {
     "name": "stdout",
     "output_type": "stream",
     "text": [
      "1\n",
      "2\n",
      "3\n",
      "4\n",
      "5\n",
      "6\n",
      "7\n",
      "8\n",
      "9\n",
      "10\n"
     ]
    }
   ],
   "source": [
    "# Using while loop\n",
    "cnt = 1\n",
    "while cnt <=10:\n",
    "    print(cnt)\n",
    "    cnt+=1"
   ]
  },
  {
   "cell_type": "markdown",
   "id": "cfdf5540",
   "metadata": {},
   "source": [
    "## 13. If you had a function named bacon() inside a module named spam, how would you call it after importing spam?"
   ]
  },
  {
   "cell_type": "code",
   "execution_count": 24,
   "id": "ea13a635",
   "metadata": {},
   "outputs": [],
   "source": [
    "#import spam\n",
    "#a = spam.bacon()"
   ]
  },
  {
   "cell_type": "code",
   "execution_count": null,
   "id": "5a5500ed",
   "metadata": {},
   "outputs": [],
   "source": []
  }
 ],
 "metadata": {
  "kernelspec": {
   "display_name": "Python 3",
   "language": "python",
   "name": "python3"
  },
  "language_info": {
   "codemirror_mode": {
    "name": "ipython",
    "version": 3
   },
   "file_extension": ".py",
   "mimetype": "text/x-python",
   "name": "python",
   "nbconvert_exporter": "python",
   "pygments_lexer": "ipython3",
   "version": "3.8.8"
  }
 },
 "nbformat": 4,
 "nbformat_minor": 5
}
