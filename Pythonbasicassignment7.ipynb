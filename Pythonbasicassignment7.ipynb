{
 "cells": [
  {
   "cell_type": "markdown",
   "id": "2d95cf49",
   "metadata": {},
   "source": [
    "# pythonBasicassignment7"
   ]
  },
  {
   "cell_type": "markdown",
   "id": "a3c355b2",
   "metadata": {},
   "source": [
    "## 1. What is the name of the feature responsible for generating Regex objects?"
   ]
  },
  {
   "cell_type": "code",
   "execution_count": 1,
   "id": "c0438a17",
   "metadata": {},
   "outputs": [
    {
     "data": {
      "text/plain": [
       "re.compile(r'string', re.UNICODE)"
      ]
     },
     "execution_count": 1,
     "metadata": {},
     "output_type": "execute_result"
    }
   ],
   "source": [
    "import re\n",
    "re.compile(\"string\")"
   ]
  },
  {
   "cell_type": "markdown",
   "id": "54bc5179",
   "metadata": {},
   "source": [
    "## 2. Why do raw strings often appear in Regex objects?\n",
    "Raw strings are used so that backslashes do not have to be escaped"
   ]
  },
  {
   "cell_type": "markdown",
   "id": "6b193036",
   "metadata": {},
   "source": [
    "## 3. What is the return value of the search() method?\n",
    "\n",
    "The search() method searches a string for a specified value, and returns the position of the match.\n",
    "\n",
    "The search value can be string or a regular expression.\n",
    "\n",
    "This method returns -1 if no match is found"
   ]
  },
  {
   "cell_type": "markdown",
   "id": "fea1cd01",
   "metadata": {},
   "source": [
    "## 4. From a Match item, how do you get the actual strings that match the pattern?\n",
    "Calling matchingObject.group() will return the string."
   ]
  },
  {
   "cell_type": "code",
   "execution_count": 21,
   "id": "4eb284e6",
   "metadata": {},
   "outputs": [
    {
     "name": "stdout",
     "output_type": "stream",
     "text": [
      "Phone number found: 9405739433\n"
     ]
    }
   ],
   "source": [
    "phoneNumRegex = re.compile(r'\\d\\d\\d\\d\\d\\d\\d\\d\\d\\d')\n",
    "mo = phoneNumRegex.search('My number is 9405739433.')\n",
    "print('Phone number found: ' + mo.group())"
   ]
  },
  {
   "cell_type": "markdown",
   "id": "6e9ac01f",
   "metadata": {},
   "source": [
    "## 5. In the regex which created from the r'(\\d\\d\\d)-(\\d\\d\\d-\\d\\d\\d\\d)', what does group zero cover? Group 2? Group 1?"
   ]
  },
  {
   "cell_type": "code",
   "execution_count": 27,
   "id": "3289fbb1",
   "metadata": {},
   "outputs": [
    {
     "name": "stdout",
     "output_type": "stream",
     "text": [
      "Phone number found: 94-05-73-94-33\n"
     ]
    }
   ],
   "source": [
    "phoneNumRegex = re.compile(r'(\\d\\d)-(\\d\\d)-(\\d\\d)-(\\d\\d)-(\\d\\d)')\n",
    "mo = phoneNumRegex.search('My number is 94-05-73-94-33.')\n",
    "print('Phone number found: ' + mo.group())"
   ]
  },
  {
   "cell_type": "code",
   "execution_count": 28,
   "id": "4179b497",
   "metadata": {},
   "outputs": [
    {
     "data": {
      "text/plain": [
       "'05'"
      ]
     },
     "execution_count": 28,
     "metadata": {},
     "output_type": "execute_result"
    }
   ],
   "source": [
    "mo.group(2)"
   ]
  },
  {
   "cell_type": "code",
   "execution_count": 29,
   "id": "6f6cf6cb",
   "metadata": {},
   "outputs": [
    {
     "data": {
      "text/plain": [
       "'94-05-73-94-33'"
      ]
     },
     "execution_count": 29,
     "metadata": {},
     "output_type": "execute_result"
    }
   ],
   "source": [
    "mo.group(0)"
   ]
  },
  {
   "cell_type": "code",
   "execution_count": 30,
   "id": "bec43c89",
   "metadata": {},
   "outputs": [
    {
     "data": {
      "text/plain": [
       "'73'"
      ]
     },
     "execution_count": 30,
     "metadata": {},
     "output_type": "execute_result"
    }
   ],
   "source": [
    "\n",
    "mo.group(3)"
   ]
  },
  {
   "cell_type": "code",
   "execution_count": 32,
   "id": "43cebafb",
   "metadata": {},
   "outputs": [
    {
     "data": {
      "text/plain": [
       "'94'"
      ]
     },
     "execution_count": 32,
     "metadata": {},
     "output_type": "execute_result"
    }
   ],
   "source": [
    "mo.group(4)"
   ]
  },
  {
   "cell_type": "markdown",
   "id": "a09324b9",
   "metadata": {},
   "source": [
    "## 6. In standard expression syntax, parentheses and intervals have distinct meanings. How can you tell a regex that you want it to fit real parentheses and periods?\n",
    "Periods and parentheses can be escaped with a backslash: \\., \\(, and \\)."
   ]
  },
  {
   "cell_type": "markdown",
   "id": "91cb71cc",
   "metadata": {},
   "source": [
    "## 7. The findall() method returns a string list or a list of string tuples. What causes it to return one of the two options?\n",
    "If the regex has no groups, a list of strings is returned. If the regex has groups, a list of tuples of strings is \n",
    "returned."
   ]
  },
  {
   "cell_type": "markdown",
   "id": "51b84a4f",
   "metadata": {},
   "source": [
    "## 8. In standard expressions, what does the | character mean?\n",
    "\n",
    "The | character is called a pipe. You can use it anywhere you want to match one of many expressions. \n",
    "For example, the regular expression r'Banana|Apple Fruit' will match either 'Banana' or 'Apple Fruit'.\n",
    "\n",
    "When both Banana and Apple Fruit occur in the searched string, the first occurrence of matching text will be \n",
    "returned as the Match object.\n",
    "\n",
    "The | character signifies matching “either, or” between two groups"
   ]
  },
  {
   "cell_type": "code",
   "execution_count": 33,
   "id": "eaf742e8",
   "metadata": {},
   "outputs": [
    {
     "data": {
      "text/plain": [
       "'Banana'"
      ]
     },
     "execution_count": 33,
     "metadata": {},
     "output_type": "execute_result"
    }
   ],
   "source": [
    "fruitRegex = re.compile (r'Banana|Apple Fruit')\n",
    "mo1 = fruitRegex.search('Banana and Apple Fruit')\n",
    "mo1.group()"
   ]
  },
  {
   "cell_type": "code",
   "execution_count": 34,
   "id": "5ec4745b",
   "metadata": {},
   "outputs": [
    {
     "data": {
      "text/plain": [
       "'Apple Fruit'"
      ]
     },
     "execution_count": 34,
     "metadata": {},
     "output_type": "execute_result"
    }
   ],
   "source": [
    "mo2 = fruitRegex.search('Apple Fruit and Banana')\n",
    "mo2.group()"
   ]
  },
  {
   "cell_type": "markdown",
   "id": "ef41ce69",
   "metadata": {},
   "source": [
    "## 9. In regular expressions, what does the ? character stand for?\n",
    "The ? character can either mean “match zero or one of the preceding group”.\n",
    "\n",
    "Sometimes there is a pattern that you want to match only optionally. That is, the regex should find a match regardless\n",
    "of whether that bit of text is there. The ? character flags the group that precedes it as an optional part of the \n",
    "pattern."
   ]
  },
  {
   "cell_type": "code",
   "execution_count": 35,
   "id": "1b983797",
   "metadata": {},
   "outputs": [
    {
     "data": {
      "text/plain": [
       "'Batman'"
      ]
     },
     "execution_count": 35,
     "metadata": {},
     "output_type": "execute_result"
    }
   ],
   "source": [
    "batRegex = re.compile(r'Bat(wo)?man')\n",
    "mo1 = batRegex.search('The Adventures of Batman')\n",
    "mo1.group()"
   ]
  },
  {
   "cell_type": "code",
   "execution_count": 36,
   "id": "29019bec",
   "metadata": {},
   "outputs": [
    {
     "data": {
      "text/plain": [
       "'Batwoman'"
      ]
     },
     "execution_count": 36,
     "metadata": {},
     "output_type": "execute_result"
    }
   ],
   "source": [
    "mo2 = batRegex.search('The Adventures of Batwoman')\n",
    "mo2.group()"
   ]
  },
  {
   "cell_type": "markdown",
   "id": "a93a4438",
   "metadata": {},
   "source": [
    "## 10.In regular expressions, what is the difference between the + and * characters?\n",
    "The + matches one or more. The * matches zero or more"
   ]
  },
  {
   "cell_type": "markdown",
   "id": "7362002d",
   "metadata": {},
   "source": [
    "## 11. What is the difference between {4} and {4,5} in regular expression?\n",
    "The {3} matches exactly three instances of the preceding group. \n",
    "\n",
    "The {3,5} matches between three and five instances\n"
   ]
  },
  {
   "cell_type": "markdown",
   "id": "bc15a329",
   "metadata": {},
   "source": [
    "## 12. What do you mean by the \\d, \\w, and \\s shorthand character classes signify in regular expressions?\n",
    "The \\d, stands for single digit, Any numeric digit from 0 to 9\n",
    "\n",
    "\\w, stands for single word, Any letter, numeric digit, or the underscore character. (Think of this as matching “word” \n",
    "characters.)\n",
    "\n",
    "\\s stands for single space character, Any space, tab, or newline character. (Think of this as matching “space” \n",
    "characters.)"
   ]
  },
  {
   "cell_type": "markdown",
   "id": "86723f52",
   "metadata": {},
   "source": [
    "## 13. What do means by \\D, \\W, and \\S shorthand character classes signify in regular expressions?\n",
    "\\D - > Any character that is not a numeric digit from 0 to 9.\n",
    "\n",
    "\\W - > Any character that is not a letter, numeric digit, or the underscore character.\n",
    "\n",
    "\\S - > Any character that is not a space, tab, or newline.\n"
   ]
  },
  {
   "cell_type": "markdown",
   "id": "79038c59",
   "metadata": {},
   "source": [
    "## 14. What is the difference between .? and .?\n",
    "\n",
    ".* - > The dot-star uses greedy mode: It will always try to match as much text as possible.\n",
    "    \n",
    ".*? - > To match any and all text in a non-greedy fashion, use the dot, star, and question mark (.*?). Like with braces, \n",
    "\n",
    "the question mark tells Python to match in a non-greedy way."
   ]
  },
  {
   "cell_type": "code",
   "execution_count": 37,
   "id": "f9227f70",
   "metadata": {},
   "outputs": [
    {
     "data": {
      "text/plain": [
       "'<To serve man> for dinner.>'"
      ]
     },
     "execution_count": 37,
     "metadata": {},
     "output_type": "execute_result"
    }
   ],
   "source": [
    "greedyRegex = re.compile(r'<.*>')\n",
    "mo = greedyRegex.search('<To serve man> for dinner.>')\n",
    "mo.group()"
   ]
  },
  {
   "cell_type": "code",
   "execution_count": 38,
   "id": "140b6098",
   "metadata": {},
   "outputs": [
    {
     "data": {
      "text/plain": [
       "'<To serve man>'"
      ]
     },
     "execution_count": 38,
     "metadata": {},
     "output_type": "execute_result"
    }
   ],
   "source": [
    "nongreedyRegex = re.compile(r'<.*?>')\n",
    "mo = nongreedyRegex.search('<To serve man> for dinner.>')\n",
    "mo.group()"
   ]
  },
  {
   "cell_type": "markdown",
   "id": "404df7c9",
   "metadata": {},
   "source": [
    "## 16. What is the procedure for making a normal expression in regax case insensitive?\n",
    "Passing re.I or re.IGNORECASE as the second argument to re.compile() will make the matching case insensitive"
   ]
  },
  {
   "cell_type": "code",
   "execution_count": 39,
   "id": "c0fd0f27",
   "metadata": {},
   "outputs": [
    {
     "data": {
      "text/plain": [
       "'Machine'"
      ]
     },
     "execution_count": 39,
     "metadata": {},
     "output_type": "execute_result"
    }
   ],
   "source": [
    "casesen = re.compile(r'machine', re.I)\n",
    "casesen.search('Machine learning is part of data science').group()"
   ]
  },
  {
   "cell_type": "code",
   "execution_count": 40,
   "id": "8f574835",
   "metadata": {},
   "outputs": [
    {
     "data": {
      "text/plain": [
       "'MACHINE'"
      ]
     },
     "execution_count": 40,
     "metadata": {},
     "output_type": "execute_result"
    }
   ],
   "source": [
    "casesen.search('MACHINE is learning.').group()"
   ]
  },
  {
   "cell_type": "markdown",
   "id": "ae15b610",
   "metadata": {},
   "source": [
    "## 17. What does the . character normally match? What does it match if re.DOTALL is passed as 2nd argument in re.compile()?\n",
    "The . character normally matches any character except the newline character. \n",
    "\n",
    "If re.DOTALL is passed as the second argument to re.compile(), then the dot will also match newline characters.\n"
   ]
  },
  {
   "cell_type": "markdown",
   "id": "ecb08612",
   "metadata": {},
   "source": [
    "## 18. If numRegex = re.compile(r'\\d+'), what will numRegex.sub('X', '11 drummers, 10 pipers, five rings, 4 hen') return?"
   ]
  },
  {
   "cell_type": "code",
   "execution_count": 41,
   "id": "f4050f33",
   "metadata": {},
   "outputs": [
    {
     "data": {
      "text/plain": [
       "'X drummers, X pipers, five rings, X hen'"
      ]
     },
     "execution_count": 41,
     "metadata": {},
     "output_type": "execute_result"
    }
   ],
   "source": [
    "numRegex = re.compile(r'\\d+')\n",
    "mo = numRegex.sub('X', '11 drummers, 10 pipers, five rings, 4 hen')\n",
    "mo"
   ]
  },
  {
   "cell_type": "markdown",
   "id": "ec8cab84",
   "metadata": {},
   "source": [
    "## 19. What does passing re.VERBOSE as the 2nd argument to re.compile() allow to do?\n",
    "The re.VERBOSE argument allows you to add whitespace and comments to the string passed to re.compile()\n"
   ]
  },
  {
   "cell_type": "markdown",
   "id": "7dc8a8f1",
   "metadata": {},
   "source": [
    "## 20. How would you write a regex that match a number with comma for every three digits? It must match the given following:\n",
    "'42'\n",
    "\n",
    "'1,234'\n",
    "\n",
    "'6,368,745'\n",
    "\n",
    " but not the following:\n",
    "\n",
    "'12,34,567' (which has only two digits between the commas)\n",
    "\n",
    "'1234' (which lacks commas)"
   ]
  },
  {
   "cell_type": "code",
   "execution_count": 42,
   "id": "f8f5ecc6",
   "metadata": {},
   "outputs": [
    {
     "data": {
      "text/plain": [
       "'42'"
      ]
     },
     "execution_count": 42,
     "metadata": {},
     "output_type": "execute_result"
    }
   ],
   "source": [
    "reg1 = re.compile(r'^\\d{1,3}(,\\d{3})*$')\n",
    "mo1 = reg1.search('42')\n",
    "mo1.group()"
   ]
  },
  {
   "cell_type": "code",
   "execution_count": 43,
   "id": "d283bb36",
   "metadata": {},
   "outputs": [
    {
     "data": {
      "text/plain": [
       "'1,234'"
      ]
     },
     "execution_count": 43,
     "metadata": {},
     "output_type": "execute_result"
    }
   ],
   "source": [
    "reg1 = re.compile(r'^\\d{1,3}(,\\d{3})*$')\n",
    "mo1 = reg1.search('1,234')\n",
    "mo1.group()"
   ]
  },
  {
   "cell_type": "code",
   "execution_count": 44,
   "id": "eea06bdd",
   "metadata": {},
   "outputs": [
    {
     "data": {
      "text/plain": [
       "'6,368,745'"
      ]
     },
     "execution_count": 44,
     "metadata": {},
     "output_type": "execute_result"
    }
   ],
   "source": [
    "reg1 = re.compile(r'^\\d{1,3}(,\\d{3})*$')\n",
    "mo1 = reg1.search('6,368,745')\n",
    "mo1.group()"
   ]
  },
  {
   "cell_type": "markdown",
   "id": "e4c94826",
   "metadata": {},
   "source": [
    "## 21. How would you write a regex that matches the full name of someone whose last name is Watanabe? You can assume that the first name that comes before it will always be one word that begins with a capital letter. The regex must match the following:\n",
    "'Haruto Watanabe'\n",
    "\n",
    "'Alice Watanabe'\n",
    "\n",
    "'RoboCop Watanabe'\n",
    "\n",
    "but not the following:\n",
    "\n",
    "'haruto Watanabe' (where the first name is not capitalized)\n",
    "\n",
    "'Mr. Watanabe' (where the preceding word has a nonletter character)\n",
    "\n",
    "'Watanabe' (which has no first name)\n",
    "\n",
    "'Haruto watanabe' (where Watanabe is not capitalized)"
   ]
  },
  {
   "cell_type": "code",
   "execution_count": 45,
   "id": "fb863047",
   "metadata": {},
   "outputs": [
    {
     "data": {
      "text/plain": [
       "'Haruto Watanabe'"
      ]
     },
     "execution_count": 45,
     "metadata": {},
     "output_type": "execute_result"
    }
   ],
   "source": [
    "name = re.compile(r'[A-Z][a-z]*\\sWatanabe')\n",
    "reg1 = re.compile(r'^\\d{1,3}(,\\d{haruto Watanabe3})*$')\n",
    "mo1 = name.search('Haruto Watanabe')\n",
    "mo1.group()"
   ]
  },
  {
   "cell_type": "code",
   "execution_count": 46,
   "id": "c35b7f7c",
   "metadata": {},
   "outputs": [
    {
     "data": {
      "text/plain": [
       "'Alice Watanabe'"
      ]
     },
     "execution_count": 46,
     "metadata": {},
     "output_type": "execute_result"
    }
   ],
   "source": [
    "name = re.compile(r'[A-Z][a-z]*\\sWatanabe')\n",
    "reg1 = re.compile(r'^\\d{1,3}(,\\d{3})*$')\n",
    "mo1 = name.search('Alice Watanabe')\n",
    "mo1.group()"
   ]
  },
  {
   "cell_type": "code",
   "execution_count": 47,
   "id": "e507d45f",
   "metadata": {},
   "outputs": [
    {
     "data": {
      "text/plain": [
       "'Robocop Watanabe'"
      ]
     },
     "execution_count": 47,
     "metadata": {},
     "output_type": "execute_result"
    }
   ],
   "source": [
    "name = re.compile(r'[A-Z][a-z]*\\sWatanabe')\n",
    "reg1 = re.compile(r'^\\d{1,3}(,\\d{3})*$')\n",
    "mo1 = name.search('Robocop Watanabe')\n",
    "mo1.group()"
   ]
  },
  {
   "cell_type": "code",
   "execution_count": 48,
   "id": "6557816c",
   "metadata": {},
   "outputs": [
    {
     "ename": "AttributeError",
     "evalue": "'NoneType' object has no attribute 'group'",
     "output_type": "error",
     "traceback": [
      "\u001b[1;31m---------------------------------------------------------------------------\u001b[0m",
      "\u001b[1;31mAttributeError\u001b[0m                            Traceback (most recent call last)",
      "\u001b[1;32m<ipython-input-48-36eb94d34b5e>\u001b[0m in \u001b[0;36m<module>\u001b[1;34m\u001b[0m\n\u001b[0;32m      2\u001b[0m \u001b[0mreg1\u001b[0m \u001b[1;33m=\u001b[0m \u001b[0mre\u001b[0m\u001b[1;33m.\u001b[0m\u001b[0mcompile\u001b[0m\u001b[1;33m(\u001b[0m\u001b[1;34mr'^\\d{1,3}(,\\d{3})*$'\u001b[0m\u001b[1;33m)\u001b[0m\u001b[1;33m\u001b[0m\u001b[1;33m\u001b[0m\u001b[0m\n\u001b[0;32m      3\u001b[0m \u001b[0mmo1\u001b[0m \u001b[1;33m=\u001b[0m \u001b[0mname\u001b[0m\u001b[1;33m.\u001b[0m\u001b[0msearch\u001b[0m\u001b[1;33m(\u001b[0m\u001b[1;34m'haruto Watanabe'\u001b[0m\u001b[1;33m)\u001b[0m\u001b[1;33m\u001b[0m\u001b[1;33m\u001b[0m\u001b[0m\n\u001b[1;32m----> 4\u001b[1;33m \u001b[0mmo1\u001b[0m\u001b[1;33m.\u001b[0m\u001b[0mgroup\u001b[0m\u001b[1;33m(\u001b[0m\u001b[1;33m)\u001b[0m\u001b[1;33m\u001b[0m\u001b[1;33m\u001b[0m\u001b[0m\n\u001b[0m",
      "\u001b[1;31mAttributeError\u001b[0m: 'NoneType' object has no attribute 'group'"
     ]
    }
   ],
   "source": [
    "name = re.compile(r'[A-Z][a-z]*\\sWatanabe')\n",
    "reg1 = re.compile(r'^\\d{1,3}(,\\d{3})*$')\n",
    "mo1 = name.search('haruto Watanabe')\n",
    "mo1.group()"
   ]
  },
  {
   "cell_type": "markdown",
   "id": "e69d7701",
   "metadata": {},
   "source": [
    "## 22. How would you write a regex that matches a sentence where the first word is either Alice, Bob,or Carol; the second word is either eats, pets, or throws; the third word is apples, cats, or baseballs; and the sentence ends with a period? This regex should be case-insensitive. It must match the following:\n",
    "'Alice eats apples.'\n",
    "\n",
    "'Bob pets cats.'\n",
    "\n",
    "'Carol throws baseballs.'\n",
    "\n",
    "'Alice throws Apples.'\n",
    "\n",
    "'BOB EATS CATS.'\n",
    "\n",
    "but not the following:\n",
    "\n",
    "'RoboCop eats apples.'\n",
    "\n",
    "'ALICE THROWS FOOTBALLS.'\n",
    "\n",
    "'Carol eats 7 cats.'"
   ]
  },
  {
   "cell_type": "code",
   "execution_count": 50,
   "id": "a5f9b427",
   "metadata": {},
   "outputs": [
    {
     "data": {
      "text/plain": [
       "'Alice eats apples.'"
      ]
     },
     "execution_count": 50,
     "metadata": {},
     "output_type": "execute_result"
    }
   ],
   "source": [
    "name = re.compile(r'(Alice|Bob|Carol)\\s(eats|pets|throws)\\s(apples|cats|baseballs)\\.', re.IGNORECASE)\n",
    "\n",
    "mo1 = name.search('Alice eats apples.')\n",
    "mo1.group()"
   ]
  },
  {
   "cell_type": "code",
   "execution_count": 51,
   "id": "c2a437a1",
   "metadata": {},
   "outputs": [
    {
     "data": {
      "text/plain": [
       "'Carol throws baseballs.'"
      ]
     },
     "execution_count": 51,
     "metadata": {},
     "output_type": "execute_result"
    }
   ],
   "source": [
    "name = re.compile(r'(Alice|Bob|Carol)\\s(eats|pets|throws)\\s(apples|cats|baseballs)\\.', re.IGNORECASE)\n",
    "\n",
    "mo1 = name.search('Carol throws baseballs.')\n",
    "mo1.group()"
   ]
  },
  {
   "cell_type": "code",
   "execution_count": null,
   "id": "f3ccaeff",
   "metadata": {},
   "outputs": [],
   "source": []
  }
 ],
 "metadata": {
  "kernelspec": {
   "display_name": "Python 3",
   "language": "python",
   "name": "python3"
  },
  "language_info": {
   "codemirror_mode": {
    "name": "ipython",
    "version": 3
   },
   "file_extension": ".py",
   "mimetype": "text/x-python",
   "name": "python",
   "nbconvert_exporter": "python",
   "pygments_lexer": "ipython3",
   "version": "3.8.8"
  }
 },
 "nbformat": 4,
 "nbformat_minor": 5
}
