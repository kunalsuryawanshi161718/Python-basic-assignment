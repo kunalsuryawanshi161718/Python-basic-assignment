{
 "cells": [
  {
   "cell_type": "markdown",
   "id": "eb5f1887",
   "metadata": {},
   "source": [
    "# Python Basic assignment 6 "
   ]
  },
  {
   "cell_type": "markdown",
   "id": "354a2932",
   "metadata": {},
   "source": [
    "## 1. What are escape characters, and how do you use them?"
   ]
  },
  {
   "cell_type": "markdown",
   "id": "6a013ff5",
   "metadata": {},
   "source": [
    "To insert characters that are illegal in a string, use an escape character.\n",
    "\n",
    "An escape character is a backslash \\ followed by the character you want to insert.\n",
    "\n",
    "An example of an illegal character is a double quote inside a string that is surrounded by double quotes:"
   ]
  },
  {
   "cell_type": "code",
   "execution_count": 1,
   "id": "834a1ccf",
   "metadata": {},
   "outputs": [
    {
     "ename": "SyntaxError",
     "evalue": "invalid syntax (<ipython-input-1-ac723aec0ca6>, line 3)",
     "output_type": "error",
     "traceback": [
      "\u001b[1;36m  File \u001b[1;32m\"<ipython-input-1-ac723aec0ca6>\"\u001b[1;36m, line \u001b[1;32m3\u001b[0m\n\u001b[1;33m    txt = \"We are the so-called \"Vikings\" from the north.\"\u001b[0m\n\u001b[1;37m                                 ^\u001b[0m\n\u001b[1;31mSyntaxError\u001b[0m\u001b[1;31m:\u001b[0m invalid syntax\n"
     ]
    }
   ],
   "source": [
    "#You will get an error if you use double quotes inside a string that is surrounded by double quotes:\n",
    "\n",
    "txt = \"We are the so-called \"Vikings\" from the north.\""
   ]
  },
  {
   "cell_type": "code",
   "execution_count": 4,
   "id": "a27083ae",
   "metadata": {},
   "outputs": [
    {
     "name": "stdout",
     "output_type": "stream",
     "text": [
      "We are the so-called \"Vikings\" from the north.\n"
     ]
    }
   ],
   "source": [
    "#The escape character allows you to use double quotes when you normally would not be allowed:\n",
    "txt = \"We are the so-called \\\"Vikings\\\" from the north.\"\n",
    "print(txt)"
   ]
  },
  {
   "cell_type": "markdown",
   "id": "0b50babd",
   "metadata": {},
   "source": [
    "## 2. What do the escape characters n and t stand for?\n",
    "\"\\t\" is a tab\n",
    "\n",
    "\"\\n\" is a newline"
   ]
  },
  {
   "cell_type": "markdown",
   "id": "021c0b7a",
   "metadata": {},
   "source": [
    "## 3. What is the way to include backslash characters in a string?\n"
   ]
  },
  {
   "cell_type": "code",
   "execution_count": 5,
   "id": "7ace3e07",
   "metadata": {},
   "outputs": [
    {
     "name": "stdout",
     "output_type": "stream",
     "text": [
      "its a back slash \\ in a sentence\n"
     ]
    }
   ],
   "source": [
    "print('its a back slash \\\\ in a sentence')"
   ]
  },
  {
   "cell_type": "markdown",
   "id": "4ae9b2c8",
   "metadata": {},
   "source": [
    "## 4. The string \"Howl's Moving Castle\" is a correct value. Why isn't the single quote character in the word Howl's not escaped a problem?\n",
    "\n",
    "The single quote in Howl's is fine because you've used double quotes to mark the beginning and end of the string. \n",
    "\n",
    "like wise we can use double quotes in with single quotes."
   ]
  },
  {
   "cell_type": "code",
   "execution_count": 6,
   "id": "5f2ff149",
   "metadata": {},
   "outputs": [
    {
     "name": "stdout",
     "output_type": "stream",
     "text": [
      "HowI's Moving Castle\n"
     ]
    }
   ],
   "source": [
    "print(\"HowI's Moving Castle\")"
   ]
  },
  {
   "cell_type": "markdown",
   "id": "3d886bc1",
   "metadata": {},
   "source": [
    "## 5. How do you write a string of newlines if you don't want to use the n character?\n",
    "by useing the parameter end ='\\n'"
   ]
  },
  {
   "cell_type": "code",
   "execution_count": 7,
   "id": "8c41c643",
   "metadata": {},
   "outputs": [
    {
     "name": "stdout",
     "output_type": "stream",
     "text": [
      "printing something in multiple lines\n",
      "newline\n"
     ]
    }
   ],
   "source": [
    "print(\"printing something in multiple lines\",end = '\\n')\n",
    "print(\"newline\")"
   ]
  },
  {
   "cell_type": "markdown",
   "id": "4e36672a",
   "metadata": {},
   "source": [
    "##6. What are the values of the given expressions?\n",
    "\n",
    "'Hello, world!'[1]\n",
    "\n",
    "'Hello, world!'[0:5] \n",
    "\n",
    "'Hello, world!'[:5] \n",
    "\n",
    "'Hello, world!'[3:] "
   ]
  },
  {
   "cell_type": "code",
   "execution_count": 8,
   "id": "764e7385",
   "metadata": {},
   "outputs": [
    {
     "data": {
      "text/plain": [
       "'e'"
      ]
     },
     "execution_count": 8,
     "metadata": {},
     "output_type": "execute_result"
    }
   ],
   "source": [
    "'Hello, world!'[1]"
   ]
  },
  {
   "cell_type": "code",
   "execution_count": 9,
   "id": "fc9badf3",
   "metadata": {},
   "outputs": [
    {
     "data": {
      "text/plain": [
       "'Hello'"
      ]
     },
     "execution_count": 9,
     "metadata": {},
     "output_type": "execute_result"
    }
   ],
   "source": [
    "'Hello, world!'[0:5]"
   ]
  },
  {
   "cell_type": "code",
   "execution_count": 10,
   "id": "e40f62fe",
   "metadata": {},
   "outputs": [
    {
     "data": {
      "text/plain": [
       "'Hello'"
      ]
     },
     "execution_count": 10,
     "metadata": {},
     "output_type": "execute_result"
    }
   ],
   "source": [
    "'Hello, world!'[:5]"
   ]
  },
  {
   "cell_type": "code",
   "execution_count": 11,
   "id": "8200e6c7",
   "metadata": {},
   "outputs": [
    {
     "data": {
      "text/plain": [
       "'lo, world!'"
      ]
     },
     "execution_count": 11,
     "metadata": {},
     "output_type": "execute_result"
    }
   ],
   "source": [
    "'Hello, world!'[3:]"
   ]
  },
  {
   "cell_type": "markdown",
   "id": "f1ed542b",
   "metadata": {},
   "source": [
    "## 7. What are the values of the following expressions?"
   ]
  },
  {
   "cell_type": "code",
   "execution_count": 13,
   "id": "3a5520fd",
   "metadata": {},
   "outputs": [
    {
     "data": {
      "text/plain": [
       "'HELLO'"
      ]
     },
     "execution_count": 13,
     "metadata": {},
     "output_type": "execute_result"
    }
   ],
   "source": [
    "'Hello'.upper()"
   ]
  },
  {
   "cell_type": "code",
   "execution_count": 14,
   "id": "c9b016aa",
   "metadata": {},
   "outputs": [
    {
     "data": {
      "text/plain": [
       "True"
      ]
     },
     "execution_count": 14,
     "metadata": {},
     "output_type": "execute_result"
    }
   ],
   "source": [
    "'Hello'.upper().isupper()"
   ]
  },
  {
   "cell_type": "code",
   "execution_count": 15,
   "id": "ae50502a",
   "metadata": {},
   "outputs": [
    {
     "data": {
      "text/plain": [
       "'hello'"
      ]
     },
     "execution_count": 15,
     "metadata": {},
     "output_type": "execute_result"
    }
   ],
   "source": [
    "'Hello'.upper().lower()"
   ]
  },
  {
   "cell_type": "markdown",
   "id": "84544ebd",
   "metadata": {},
   "source": [
    "## 8. What are the values of the following expressions?"
   ]
  },
  {
   "cell_type": "code",
   "execution_count": 16,
   "id": "1081cadc",
   "metadata": {},
   "outputs": [
    {
     "data": {
      "text/plain": [
       "['Remember,', 'remember,', 'the', 'fifth', 'of', 'July.']"
      ]
     },
     "execution_count": 16,
     "metadata": {},
     "output_type": "execute_result"
    }
   ],
   "source": [
    "'Remember, remember, the fifth of July.'.split()"
   ]
  },
  {
   "cell_type": "code",
   "execution_count": 17,
   "id": "737314b8",
   "metadata": {},
   "outputs": [
    {
     "data": {
      "text/plain": [
       "'There-can-only-one.'"
      ]
     },
     "execution_count": 17,
     "metadata": {},
     "output_type": "execute_result"
    }
   ],
   "source": [
    "'-'.join('There can only one.'.split())"
   ]
  },
  {
   "cell_type": "markdown",
   "id": "538a71b4",
   "metadata": {},
   "source": [
    "## 9. What are the methods for right-justifying, left-justifying, and centering a string?"
   ]
  },
  {
   "cell_type": "code",
   "execution_count": 27,
   "id": "affafa46",
   "metadata": {},
   "outputs": [
    {
     "data": {
      "text/plain": [
       "'Hello---------------'"
      ]
     },
     "execution_count": 27,
     "metadata": {},
     "output_type": "execute_result"
    }
   ],
   "source": [
    "# left justified\n",
    "str =\"Hello\"\n",
    "str.ljust(20,\"-\")"
   ]
  },
  {
   "cell_type": "code",
   "execution_count": 29,
   "id": "972cf98f",
   "metadata": {},
   "outputs": [
    {
     "data": {
      "text/plain": [
       "'--------------How are you'"
      ]
     },
     "execution_count": 29,
     "metadata": {},
     "output_type": "execute_result"
    }
   ],
   "source": [
    "# right justified\n",
    "str =\"How are you\"\n",
    "str.rjust(25,'-')"
   ]
  },
  {
   "cell_type": "code",
   "execution_count": 30,
   "id": "22e1b2b4",
   "metadata": {},
   "outputs": [
    {
     "data": {
      "text/plain": [
       "'----How are you-----'"
      ]
     },
     "execution_count": 30,
     "metadata": {},
     "output_type": "execute_result"
    }
   ],
   "source": [
    "# center justified\n",
    "str =\"How are you\"\n",
    "str.center(20,'-')"
   ]
  },
  {
   "cell_type": "markdown",
   "id": "5a5b59b7",
   "metadata": {},
   "source": [
    "## 10. What is the best way to remove whitespace characters from the start or end?"
   ]
  },
  {
   "cell_type": "code",
   "execution_count": 33,
   "id": "a3a8bdeb",
   "metadata": {},
   "outputs": [
    {
     "data": {
      "text/plain": [
       "'hkjhjdfhjd jkhjhd  '"
      ]
     },
     "execution_count": 33,
     "metadata": {},
     "output_type": "execute_result"
    }
   ],
   "source": [
    "#removes white spaces from left of the string\n",
    "str =\"  hkjhjdfhjd jkhjhd  \"\n",
    "str.lstrip()"
   ]
  },
  {
   "cell_type": "code",
   "execution_count": 34,
   "id": "c9870153",
   "metadata": {},
   "outputs": [
    {
     "data": {
      "text/plain": [
       "'  hkjhjdfhjd jkhjhd'"
      ]
     },
     "execution_count": 34,
     "metadata": {},
     "output_type": "execute_result"
    }
   ],
   "source": [
    "#removes whitespaces from right of the string\n",
    "str =\"  hkjhjdfhjd jkhjhd  \"\n",
    "str.rstrip()"
   ]
  },
  {
   "cell_type": "code",
   "execution_count": null,
   "id": "a1cf3531",
   "metadata": {},
   "outputs": [],
   "source": []
  }
 ],
 "metadata": {
  "kernelspec": {
   "display_name": "Python 3",
   "language": "python",
   "name": "python3"
  },
  "language_info": {
   "codemirror_mode": {
    "name": "ipython",
    "version": 3
   },
   "file_extension": ".py",
   "mimetype": "text/x-python",
   "name": "python",
   "nbconvert_exporter": "python",
   "pygments_lexer": "ipython3",
   "version": "3.8.8"
  }
 },
 "nbformat": 4,
 "nbformat_minor": 5
}
